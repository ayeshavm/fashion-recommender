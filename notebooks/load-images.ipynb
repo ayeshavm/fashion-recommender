{
 "cells": [
  {
   "cell_type": "code",
   "execution_count": null,
   "metadata": {
    "colab": {
     "base_uri": "https://localhost:8080/"
    },
    "executionInfo": {
     "elapsed": 16968,
     "status": "ok",
     "timestamp": 1743797080920,
     "user": {
      "displayName": "Ayesha Mendoza",
      "userId": "11726662972799061955"
     },
     "user_tz": 420
    },
    "id": "GrZf09WoXUph",
    "outputId": "578caa26-5b8d-48dc-eaca-797d4248f107"
   },
   "outputs": [
    {
     "name": "stdout",
     "output_type": "stream",
     "text": [
      "✅ Saved: zara_01.jpg\n",
      "✅ Saved: zara_02.jpg\n",
      "✅ Saved: zara_03.jpg\n",
      "✅ Saved: zara_04.jpg\n",
      "✅ Saved: zara_05.jpg\n",
      "✅ Saved: zara_06.jpg\n",
      "✅ Saved: zara_07.jpg\n",
      "✅ Saved: zara_08.jpg\n",
      "✅ Saved: zara_09.jpg\n",
      "✅ Saved: zara_10.jpg\n",
      "✅ Saved: zara_11.jpg\n",
      "✅ Saved: zara_12.jpg\n",
      "✅ Saved: zara_13.jpg\n",
      "✅ Saved: zara_14.jpg\n",
      "✅ Saved: zara_15.jpg\n",
      "✅ Saved: zara_16.jpg\n",
      "✅ Saved: zara_17.jpg\n",
      "✅ Saved: zara_18.jpg\n",
      "✅ Saved: zara_19.jpg\n",
      "✅ Saved: zara_20.jpg\n",
      "✅ Saved: zara_21.jpg\n",
      "✅ Saved: zara_22.jpg\n",
      "✅ Saved: zara_23.jpg\n",
      "✅ Saved: zara_24.jpg\n",
      "✅ Saved: zara_25.jpg\n",
      "✅ Saved: zara_26.jpg\n",
      "✅ Saved: zara_27.jpg\n",
      "✅ Saved: zara_28.jpg\n",
      "✅ Saved: zara_29.jpg\n",
      "✅ Saved: zara_30.jpg\n",
      "✅ Saved: zara_31.jpg\n",
      "✅ Saved: zara_32.jpg\n",
      "✅ Saved: zara_33.jpg\n",
      "✅ Saved: zara_34.jpg\n",
      "✅ Saved: zara_35.jpg\n",
      "✅ Saved: zara_36.jpg\n",
      "✅ Saved: zara_37.jpg\n",
      "✅ Saved: zara_38.jpg\n",
      "✅ Saved: zara_39.jpg\n",
      "✅ Saved: zara_40.jpg\n",
      "✅ Saved: zara_41.jpg\n",
      "✅ Saved: zara_42.jpg\n",
      "✅ Saved: zara_43.jpg\n",
      "✅ Saved: zara_44.jpg\n",
      "✅ Saved: zara_45.jpg\n",
      "✅ Saved: zara_46.jpg\n",
      "✅ Saved: zara_47.jpg\n",
      "✅ Saved: zara_48.jpg\n",
      "✅ Saved: zara_49.jpg\n",
      "✅ Saved: zara_50.jpg\n",
      "✅ Saved: zara_51.jpg\n",
      "✅ Saved: zara_53.jpg\n"
     ]
    }
   ],
   "source": [
    "import os\n",
    "from pathlib import Path\n",
    "from PIL import Image\n",
    "\n",
    "# === CONFIG ===\n",
    "source_dir = Path('Users/ayeshamendoza/repos/fashion-recommender/data/images')\n",
    "output_dir = Path('Users/ayeshamendoza/repos/fashion-recommender/data/images/zara')\n",
    "output_dir.mkdir(parents=True, exist_ok=True)\n",
    "\n",
    "# Supported image formats\n",
    "valid_exts = [\".jpg\", \".jpeg\", \".png\", \".webp\", \".avif\"]\n",
    "\n",
    "# Process and rename\n",
    "for idx, img_path in enumerate(sorted(source_dir.iterdir())):\n",
    "    if img_path.suffix.lower() not in valid_exts:\n",
    "        continue\n",
    "\n",
    "    try:\n",
    "        img = Image.open(img_path).convert(\"RGB\")  # Convert to RGB for JPEG\n",
    "        new_filename = f\"zara_{idx+1:02d}.jpg\"\n",
    "        new_path = output_dir / new_filename\n",
    "        img.save(new_path, format=\"JPEG\", quality=95)\n",
    "        print(f\"✅ Saved: {new_path.name}\")\n",
    "    except Exception as e:\n",
    "        print(f\"❌ Error processing {img_path.name}: {e}\")\n"
   ]
  },
  {
   "cell_type": "code",
   "execution_count": null,
   "metadata": {
    "id": "Hsuf5r5gZ5Az"
   },
   "outputs": [],
   "source": []
  }
 ],
 "metadata": {
  "colab": {
   "authorship_tag": "ABX9TyMHur+V8oqtnLk1gujHVChB",
   "provenance": []
  },
  "kernelspec": {
   "display_name": "Python 3",
   "name": "python3"
  },
  "language_info": {
   "name": "python"
  }
 },
 "nbformat": 4,
 "nbformat_minor": 0
}
